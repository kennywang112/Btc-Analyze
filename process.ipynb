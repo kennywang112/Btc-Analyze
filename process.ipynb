{
 "cells": [
  {
   "cell_type": "code",
   "execution_count": 2,
   "id": "2ead5d86-1cd9-41ef-be74-ad9c5c0cb25a",
   "metadata": {},
   "outputs": [],
   "source": [
    "import pandas as pd\n",
    "import json"
   ]
  },
  {
   "cell_type": "code",
   "execution_count": 47,
   "id": "0b840c0e-abfe-49db-86cc-a0432e1f26b6",
   "metadata": {},
   "outputs": [],
   "source": [
    "myAddress = \"bc1pw024mk00s8u5psewxc0d0tevhrq3pe6jk84nj6sqhft652zutvwq87a2mp\"\n",
    "sat = 100000000"
   ]
  },
  {
   "cell_type": "code",
   "execution_count": 17,
   "id": "fca3a61c-7680-497b-bbf2-aead28d9904d",
   "metadata": {},
   "outputs": [],
   "source": [
    "with open('output/allVinData.json', 'r') as file:\n",
    "    allVinData = json.load(file)\n",
    "with open('output/allVoutData.json', 'r') as file:\n",
    "    allVoutData = json.load(file)\n",
    "with open('output/txData.json', 'r') as file:\n",
    "    txData = json.load(file)\n",
    "# print(data)"
   ]
  },
  {
   "cell_type": "code",
   "execution_count": 23,
   "id": "2bb37d92-c4fd-4d03-a528-b52e4a04bead",
   "metadata": {},
   "outputs": [
    {
     "data": {
      "text/html": [
       "<div>\n",
       "<style scoped>\n",
       "    .dataframe tbody tr th:only-of-type {\n",
       "        vertical-align: middle;\n",
       "    }\n",
       "\n",
       "    .dataframe tbody tr th {\n",
       "        vertical-align: top;\n",
       "    }\n",
       "\n",
       "    .dataframe thead th {\n",
       "        text-align: right;\n",
       "    }\n",
       "</style>\n",
       "<table border=\"1\" class=\"dataframe\">\n",
       "  <thead>\n",
       "    <tr style=\"text-align: right;\">\n",
       "      <th></th>\n",
       "      <th>tx_index</th>\n",
       "      <th>vin_tx</th>\n",
       "      <th>vin_address</th>\n",
       "      <th>vin_value</th>\n",
       "    </tr>\n",
       "  </thead>\n",
       "  <tbody>\n",
       "    <tr>\n",
       "      <th>0</th>\n",
       "      <td>0</td>\n",
       "      <td>9b1eb34d98f18660526e5211389fc30786d67cad547b7a...</td>\n",
       "      <td>bc1pw024mk00s8u5psewxc0d0tevhrq3pe6jk84nj6sqhf...</td>\n",
       "      <td>272000</td>\n",
       "    </tr>\n",
       "    <tr>\n",
       "      <th>1</th>\n",
       "      <td>0</td>\n",
       "      <td>b499847d6e4e2c7342561167631f758a541465c8d04075...</td>\n",
       "      <td>bc1pw024mk00s8u5psewxc0d0tevhrq3pe6jk84nj6sqhf...</td>\n",
       "      <td>260000</td>\n",
       "    </tr>\n",
       "    <tr>\n",
       "      <th>2</th>\n",
       "      <td>0</td>\n",
       "      <td>c9843591ed466879a921b513070c63fa44fb710c9e1e0e...</td>\n",
       "      <td>bc1pw024mk00s8u5psewxc0d0tevhrq3pe6jk84nj6sqhf...</td>\n",
       "      <td>248935</td>\n",
       "    </tr>\n",
       "    <tr>\n",
       "      <th>3</th>\n",
       "      <td>0</td>\n",
       "      <td>cac99c59f90162d56b245a609f5ac21658850533019f55...</td>\n",
       "      <td>bc1pw024mk00s8u5psewxc0d0tevhrq3pe6jk84nj6sqhf...</td>\n",
       "      <td>85000</td>\n",
       "    </tr>\n",
       "  </tbody>\n",
       "</table>\n",
       "</div>"
      ],
      "text/plain": [
       "   tx_index                                             vin_tx  \\\n",
       "0         0  9b1eb34d98f18660526e5211389fc30786d67cad547b7a...   \n",
       "1         0  b499847d6e4e2c7342561167631f758a541465c8d04075...   \n",
       "2         0  c9843591ed466879a921b513070c63fa44fb710c9e1e0e...   \n",
       "3         0  cac99c59f90162d56b245a609f5ac21658850533019f55...   \n",
       "\n",
       "                                         vin_address  vin_value  \n",
       "0  bc1pw024mk00s8u5psewxc0d0tevhrq3pe6jk84nj6sqhf...     272000  \n",
       "1  bc1pw024mk00s8u5psewxc0d0tevhrq3pe6jk84nj6sqhf...     260000  \n",
       "2  bc1pw024mk00s8u5psewxc0d0tevhrq3pe6jk84nj6sqhf...     248935  \n",
       "3  bc1pw024mk00s8u5psewxc0d0tevhrq3pe6jk84nj6sqhf...      85000  "
      ]
     },
     "execution_count": 23,
     "metadata": {},
     "output_type": "execute_result"
    }
   ],
   "source": [
    "df_allVinData = pd.DataFrame(allVinData)\n",
    "\n",
    "df_allVinData_0 = df_allVinData[df_allVinData['tx_index'] == 0]\n",
    "df_allVinData_0"
   ]
  },
  {
   "cell_type": "code",
   "execution_count": 51,
   "id": "b0e5d48b-445a-4692-a379-bb8ff18d7ad1",
   "metadata": {},
   "outputs": [
    {
     "data": {
      "text/html": [
       "<div>\n",
       "<style scoped>\n",
       "    .dataframe tbody tr th:only-of-type {\n",
       "        vertical-align: middle;\n",
       "    }\n",
       "\n",
       "    .dataframe tbody tr th {\n",
       "        vertical-align: top;\n",
       "    }\n",
       "\n",
       "    .dataframe thead th {\n",
       "        text-align: right;\n",
       "    }\n",
       "</style>\n",
       "<table border=\"1\" class=\"dataframe\">\n",
       "  <thead>\n",
       "    <tr style=\"text-align: right;\">\n",
       "      <th></th>\n",
       "      <th>tx_index</th>\n",
       "      <th>vout_address</th>\n",
       "      <th>vout_value</th>\n",
       "    </tr>\n",
       "  </thead>\n",
       "  <tbody>\n",
       "    <tr>\n",
       "      <th>0</th>\n",
       "      <td>0</td>\n",
       "      <td>bc1p2fc9nwpgje3juaa3w5mqk9y63wnd24ddt9vxhrrmjd...</td>\n",
       "      <td>800000</td>\n",
       "    </tr>\n",
       "    <tr>\n",
       "      <th>1</th>\n",
       "      <td>0</td>\n",
       "      <td>bc1pw024mk00s8u5psewxc0d0tevhrq3pe6jk84nj6sqhf...</td>\n",
       "      <td>46255</td>\n",
       "    </tr>\n",
       "  </tbody>\n",
       "</table>\n",
       "</div>"
      ],
      "text/plain": [
       "   tx_index                                       vout_address  vout_value\n",
       "0         0  bc1p2fc9nwpgje3juaa3w5mqk9y63wnd24ddt9vxhrrmjd...      800000\n",
       "1         0  bc1pw024mk00s8u5psewxc0d0tevhrq3pe6jk84nj6sqhf...       46255"
      ]
     },
     "execution_count": 51,
     "metadata": {},
     "output_type": "execute_result"
    }
   ],
   "source": [
    "df_allVoutData = pd.DataFrame(allVoutData)\n",
    "\n",
    "df_allVoutData_0 = df_allVoutData[df_allVoutData['tx_index'] == 0]\n",
    "df_allVoutData_0"
   ]
  },
  {
   "cell_type": "code",
   "execution_count": 57,
   "id": "53e47909-5e3d-4d6f-bb7e-2d410213de0c",
   "metadata": {},
   "outputs": [
    {
     "name": "stdout",
     "output_type": "stream",
     "text": [
      "your input: 0.00865935\n",
      "your output: 0.00846255\n",
      "fees: 0.0001968\n"
     ]
    }
   ],
   "source": [
    "if df_allVinData_0[df_allVinData_0['vin_address'] == myAddress].shape[0] == 0:\n",
    "    # that means i receive something\n",
    "    print('no input is myAddress')\n",
    "else:\n",
    "    total_input = df_allVinData_0['vin_value'].sum()\n",
    "    print('your input:', total_input/sat)\n",
    "    \n",
    "    total_output = df_allVoutData_0['vout_value'].sum()\n",
    "    print('your output:', total_output/sat)\n",
    "    \n",
    "    print('fees:', (total_input - total_output)/sat)"
   ]
  }
 ],
 "metadata": {
  "kernelspec": {
   "display_name": "Python 3 (ipykernel)",
   "language": "python",
   "name": "python3"
  },
  "language_info": {
   "codemirror_mode": {
    "name": "ipython",
    "version": 3
   },
   "file_extension": ".py",
   "mimetype": "text/x-python",
   "name": "python",
   "nbconvert_exporter": "python",
   "pygments_lexer": "ipython3",
   "version": "3.9.12"
  }
 },
 "nbformat": 4,
 "nbformat_minor": 5
}
